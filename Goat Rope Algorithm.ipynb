{
 "cells": [
  {
   "cell_type": "code",
   "execution_count": 1,
   "metadata": {},
   "outputs": [
    {
     "name": "stdout",
     "output_type": "stream",
     "text": [
      "Input a single line containing six space-separated integer values: x, y, x1, y1, x2, and y2\n",
      "4 5 0 0 3 3\n",
      "2.236\n"
     ]
    }
   ],
   "source": [
    "# Author : Dony Varghese\n",
    "# Date : 04-10-2022\n",
    "# Synopsis : Return the minimum distance from the goat’s post (x,y) to the house given the houses'\n",
    "# diagonally opposite corners at the points bottom-left: (x1,y1) and top-right: (x2,y2).\n",
    "\n",
    "import math\n",
    "\n",
    "def get_input():\n",
    "    print (\"Input a single line containing six space-separated integer values: x, y, x1, y1, x2, and y2\")\n",
    "    # Get six inputs from the user\n",
    "    # Return all six inputs as (x, y) float pairs (x, y) is a tuple, which can be created using parentheses ()\n",
    "    datalist = input().split(\" \")\n",
    "    post = (float(datalist[0]), float(datalist[1]))\n",
    "    #Finish getting input (bottom left and top right)\n",
    "    bl = (float(datalist[2]), float(datalist[3]))\n",
    "    tr = (float(datalist[4]), float(datalist[5]))\n",
    "    # Return the post, bottom-left, and top-right as tuples\n",
    "    return post, bl, tr\n",
    "\n",
    "def rope(post, bl, tr):\n",
    "    \n",
    "    if post[0]>=bl[0] and post[0]<=tr[0]: #If the x coordinate of the post is between x coordinates of bl and tr.\n",
    "        \n",
    "        print (abs(post[1]-tr[1]))\n",
    "        shortest_rope_length = min(abs(post[1]-tr[1]),abs(post[1]-bl[1]))\n",
    "        # Shortest dist is either to top or bottom side.\n",
    "    elif post[1]>=bl[1] and post[1]<=tr[1]: #If the y coordinate of the post is between y coordinates of bl and tr.\n",
    "        \n",
    "        shortest_rope_length = min(abs(post[0]-tr[0]),abs(post[0]-bl[0]))\n",
    "        \n",
    "        # Shortest dist is either to left or right side.\n",
    "    \n",
    "    else: # all other cases\n",
    "        dist_1 = math.sqrt((post[0]-bl[0])**2+(post[1]-bl[1])**2) # distance to bl corner.\n",
    "        dist_2 = math.sqrt((post[0]-bl[0])**2+(post[1]-tr[1])**2) # distance to tl corner.\n",
    "        dist_3 = math.sqrt((post[0]-tr[0])**2+(post[1]-bl[1])**2) # distance to br corner.\n",
    "        dist_4 = math.sqrt((post[0]-tr[0])**2+(post[1]-tr[1])**2) # distance to tr corner.\n",
    "        \n",
    "        shortest_rope_length = min(dist_1,dist_2,dist_3,dist_4) # Shortest dist is to one of the corners.\n",
    "        \n",
    "        \n",
    "        \n",
    "    # Return the amount back to main.\n",
    "    return shortest_rope_length\n",
    "\n",
    "if __name__ == \"__main__\":\n",
    "    post, bl, tr = get_input()\n",
    "    rope_length = rope(post, bl, tr)\n",
    "    print(\"{:.3f}\".format(rope_length))"
   ]
  },
  {
   "cell_type": "code",
   "execution_count": null,
   "metadata": {},
   "outputs": [],
   "source": []
  },
  {
   "cell_type": "code",
   "execution_count": null,
   "metadata": {},
   "outputs": [],
   "source": []
  }
 ],
 "metadata": {
  "kernelspec": {
   "display_name": "Python 3",
   "language": "python",
   "name": "python3"
  },
  "language_info": {
   "codemirror_mode": {
    "name": "ipython",
    "version": 3
   },
   "file_extension": ".py",
   "mimetype": "text/x-python",
   "name": "python",
   "nbconvert_exporter": "python",
   "pygments_lexer": "ipython3",
   "version": "3.7.4"
  }
 },
 "nbformat": 4,
 "nbformat_minor": 2
}
