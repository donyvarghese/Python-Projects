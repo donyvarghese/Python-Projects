{
 "cells": [
  {
   "cell_type": "code",
   "execution_count": 1,
   "metadata": {},
   "outputs": [
    {
     "name": "stdout",
     "output_type": "stream",
     "text": [
      "3\n",
      "10 13\n",
      "11 12\n",
      "12 15\n",
      "6\n"
     ]
    }
   ],
   "source": [
    "# Author : Dony Varghese\n",
    "# Date : 04-10-2022\n",
    "# Synopsis : Given a number of inputs and two integers si and ti denoting that \n",
    "# the ith event will be held from si to ti (inclusive), single integer which \n",
    "# denotes the number of days in which free food is served by at least one event.\n",
    "\n",
    "def get_input():\n",
    "    num_events = int(input())\n",
    "    events = []\n",
    "    for i in range(num_events): # Collect the events (si and ti per line)\n",
    "        line=input().split(\" \") # Splitting into two inputs.\n",
    "        start = int(line[0]) # Starting point for range.\n",
    "        end = int(line[1])+1 # Ending point for range. Plus one to include ti.\n",
    "        x = [range(start,end)] # Making range si to ti.\n",
    "        events=events+x # Each element in events is a range from si to ti (including endpoints).\n",
    "    return events\n",
    "\n",
    "def calculate(events):\n",
    "    \n",
    "    range_set=set() #Sets have unique elements.\n",
    "    range_list=[] #To make lists of all numbers.\n",
    "    for i in range(len(events)):\n",
    "        inter_list=[*events[i]] #Changing the range into numbers between them.\n",
    "        range_list=range_list+inter_list # Adding all the range of numbers\n",
    "    range_set=set(range_list) # Changing the list of numbers into set to remove duplicates.\n",
    "        \n",
    "        \n",
    "    # Events above comes from your get_input() function and must have\n",
    "    # the format of (si, ti) for each event element.\n",
    "\n",
    "    # TODO: Calculate **unique** event days.\n",
    "    unique_days = len(range_set) #Length of set is integer which denotes the \n",
    "    # number of days in which free food is served by at least one event.\n",
    "    return unique_days\n",
    "\n",
    "if __name__ == \"__main__\":\n",
    "    events = get_input()\n",
    "    free_food = calculate(events)\n",
    "    print(free_food)"
   ]
  },
  {
   "cell_type": "code",
   "execution_count": null,
   "metadata": {},
   "outputs": [],
   "source": []
  }
 ],
 "metadata": {
  "kernelspec": {
   "display_name": "Python 3",
   "language": "python",
   "name": "python3"
  },
  "language_info": {
   "codemirror_mode": {
    "name": "ipython",
    "version": 3
   },
   "file_extension": ".py",
   "mimetype": "text/x-python",
   "name": "python",
   "nbconvert_exporter": "python",
   "pygments_lexer": "ipython3",
   "version": "3.7.4"
  }
 },
 "nbformat": 4,
 "nbformat_minor": 2
}
