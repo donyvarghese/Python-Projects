{
 "cells": [
  {
   "cell_type": "code",
   "execution_count": 10,
   "metadata": {},
   "outputs": [
    {
     "name": "stdout",
     "output_type": "stream",
     "text": [
      "heeeeey\n",
      "heeeeeeeeeey \n"
     ]
    }
   ],
   "source": [
    "# Author : Dony Varghese\n",
    "# Date : 04-09-2022\n",
    "# Synopsis : Given a string of the form h…ey, print the greeting you will respond with containing twice as many e’s.\n",
    "\n",
    "def convert_word(word):\n",
    "    # We only convert words that start with he and end with y. So, return the\n",
    "    # original word if it doesnt.\n",
    "    if not word.startswith(\"he\") or not word.endswith(\"y\"):\n",
    "        return word\n",
    "    else: \n",
    "        new_num_e = ((len(word) - 2)*2)-1 # Counting the number of e's between \"h\" and \"y\" and removing one.\n",
    "        # Because one e is already in with the return.\n",
    "        new_string = \"e\" * new_num_e # Making a string of twice minus one as many e’s.\n",
    "        conv = \"he\" + new_string + \"y\" # Adding new string between \"he\" and \"y\".\n",
    "        return conv\n",
    "    \n",
    "if __name__ == \"__main__\":\n",
    "    # All words must be on the same line. This splits across spaces to make a list called words\n",
    "    words = input().split(\" \")\n",
    "    # For each word, we send that word to your convert_word function above, which will then\n",
    "    # return the heeey-type word.\n",
    "    for word in words:\n",
    "        # We put end = ' ' to make sure we print all on the same line.\n",
    "        print(convert_word(word), end=' ')\n",
    "    print()"
   ]
  },
  {
   "cell_type": "code",
   "execution_count": null,
   "metadata": {},
   "outputs": [],
   "source": []
  }
 ],
 "metadata": {
  "kernelspec": {
   "display_name": "Python 3",
   "language": "python",
   "name": "python3"
  },
  "language_info": {
   "codemirror_mode": {
    "name": "ipython",
    "version": 3
   },
   "file_extension": ".py",
   "mimetype": "text/x-python",
   "name": "python",
   "nbconvert_exporter": "python",
   "pygments_lexer": "ipython3",
   "version": "3.7.4"
  }
 },
 "nbformat": 4,
 "nbformat_minor": 2
}
