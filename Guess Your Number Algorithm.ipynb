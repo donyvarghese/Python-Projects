{
 "cells": [
  {
   "cell_type": "code",
   "execution_count": 3,
   "metadata": {},
   "outputs": [
    {
     "name": "stdout",
     "output_type": "stream",
     "text": [
      "Enter your guess: 2\n",
      "Your guess is too low!\n",
      "Enter your guess: 13\n",
      "Your guess is too low!\n",
      "Enter your guess: 42\n",
      "Your guess is too low!\n",
      "Enter your guess: 48\n",
      "Your guess is too low!\n",
      "Enter your guess: 49\n",
      "Your guess is too low!\n",
      "Enter your guess: 50\n",
      "YOU GOT IT!\n"
     ]
    }
   ],
   "source": [
    "# Author : Dony Varghese\n",
    "# Date : 04-10-2022\n",
    "# Synopsis : Developing a game allows the user to input their guess, which afterward, \n",
    "# the game will tell the user one of three things: \n",
    "# (1) the guessed number is too high, \n",
    "# (2) the guessed number is too low, or \n",
    "# (3) the guessed number is correct. If #3 occurs, then the game ends.\n",
    "\n",
    "\n",
    "from random import randint # Importing libraries.\n",
    "\n",
    "def guess(user_guess, correct_num):\n",
    "    \n",
    "    if user_guess>correct_num: #the guessed number is too high.\n",
    "        print (\"Your guess is too high!\")\n",
    "        return False\n",
    "    elif user_guess<correct_num:#the guessed number is too low.\n",
    "        print (\"Your guess is too low!\")\n",
    "        return False\n",
    "    else: # the guessed number is correct.\n",
    "        print (\"YOU GOT IT!\")\n",
    "        return True\n",
    "\n",
    "if __name__ == \"__main__\":\n",
    "    num = randint(-50, 50) #Random integer between -50 and 50.\n",
    "    while True:\n",
    "        user_guess = int(input(\"Enter your guess: \")) #Taking input\n",
    "        if guess(user_guess, num) == True: \n",
    "            break"
   ]
  },
  {
   "cell_type": "code",
   "execution_count": null,
   "metadata": {},
   "outputs": [],
   "source": []
  }
 ],
 "metadata": {
  "kernelspec": {
   "display_name": "Python 3",
   "language": "python",
   "name": "python3"
  },
  "language_info": {
   "codemirror_mode": {
    "name": "ipython",
    "version": 3
   },
   "file_extension": ".py",
   "mimetype": "text/x-python",
   "name": "python",
   "nbconvert_exporter": "python",
   "pygments_lexer": "ipython3",
   "version": "3.7.4"
  }
 },
 "nbformat": 4,
 "nbformat_minor": 2
}
